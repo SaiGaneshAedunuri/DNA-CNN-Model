{
 "cells": [
  {
   "cell_type": "code",
   "execution_count": 28,
   "metadata": {},
   "outputs": [],
   "source": [
    "import torch\n",
    "import torchvision\n",
    "import torchvision.datasets as datasets\n",
    "import torchvision.transforms as transforms\n",
    "import torch.optim as optim\n",
    "import torch.nn as nn\n",
    "import torch.nn.functional as F\n",
    "from torch.utils.data import Dataset, DataLoader\n",
    "#import matplotlib.pyplot as plt\n",
    "import numpy as np"
   ]
  },
  {
   "cell_type": "code",
   "execution_count": 29,
   "metadata": {},
   "outputs": [
    {
     "data": {
      "text/plain": [
       "device(type='cpu')"
      ]
     },
     "execution_count": 29,
     "metadata": {},
     "output_type": "execute_result"
    }
   ],
   "source": [
    "device=torch.device('cuda' if torch.cuda.is_available() else 'cpu')\n",
    "device"
   ]
  },
  {
   "cell_type": "code",
   "execution_count": 30,
   "metadata": {},
   "outputs": [],
   "source": [
    "class Net(nn.Module):\n",
    "    def __init__(self):\n",
    "        super().__init__()\n",
    "        self.conv1 = nn.Conv1d(in_channels=4,out_channels=96,kernel_size=11,stride=4,padding=0)\n",
    "\n",
    "        self.conv2 = nn.Conv1d(in_channels=96,out_channels=96,kernel_size=1)\n",
    "        \n",
    "        self.conv3=nn.Conv1d(in_channels=96,out_channels=96,kernel_size=1)\n",
    "        \n",
    "        self.pool3 = nn.MaxPool1d(kernel_size=3,stride=2)\n",
    "\n",
    "        self.conv4=nn.Conv1d(in_channels=96,out_channels=256,kernel_size=11,stride=4,padding=2)\n",
    "\n",
    "        self.conv5=nn.Conv1d(in_channels=256,out_channels=256,kernel_size=1)\n",
    "\n",
    "        self.conv6=nn.Conv1d(in_channels=256,out_channels=256,kernel_size=1)\n",
    "        \n",
    "        self.pool6 = nn.MaxPool1d(kernel_size=3,stride=2)\n",
    "\n",
    "        self.conv7=nn.Conv1d(in_channels=256,out_channels=384,kernel_size=3,stride=1,padding=1)\n",
    "\n",
    "        self.conv8=nn.Conv1d(in_channels=384,out_channels=384,kernel_size=1)\n",
    "\n",
    "        self.conv9=nn.Conv1d(in_channels=384,out_channels=384,kernel_size=1)\n",
    "\n",
    "        self.fc1 = nn.Linear(in_features=(384*1),out_features=2048)\n",
    "\n",
    "        self.fc2 = nn.Linear(in_features=2048,out_features=2048)\n",
    "\n",
    "        self.fc3 = nn.Linear(in_features=2048,out_features=2)\n",
    "\n",
    "    def forward(self, x):\n",
    "        x = F.relu(self.conv1(x))\n",
    "\n",
    "        x = F.relu(self.conv2(x))\n",
    "\n",
    "        x = self.pool3(F.relu(self.conv3(x)))\n",
    "        x = F.dropout(x, 0.5)\n",
    "\n",
    "        x = F.relu(self.conv4(x))\n",
    "\n",
    "        x = F.relu(self.conv5(x))\n",
    "\n",
    "        x = self.pool6(F.relu(self.conv6(x)))\n",
    "        x = F.dropout(x, 0.5)\n",
    "\n",
    "        x = F.relu(self.conv7(x))\n",
    "\n",
    "        x = F.relu(self.conv8(x))\n",
    "\n",
    "        x = F.relu(self.conv9(x))\n",
    "        x = F.dropout(x, 0.5)\n",
    "\n",
    "        x = torch.flatten(x, 1) # flatten all dimensions except batch\n",
    "        \n",
    "        x = F.relu(self.fc1(x))\n",
    "        x = F.dropout(x, 0.5)\n",
    "\n",
    "        x = F.relu(self.fc2(x))\n",
    "        x = F.dropout(x, 0.5)\n",
    "\n",
    "        x = self.fc3(x)\n",
    "        \n",
    "        return x"
   ]
  },
  {
   "cell_type": "code",
   "execution_count": 31,
   "metadata": {},
   "outputs": [],
   "source": [
    "\n",
    "# Define the path to your .txt file containing DNA sequences\n",
    "file_path = \"/users/saedunu/final_merge.txt\"\n",
    "\n",
    "# Read DNA sequences from the .txt file\n",
    "with open(file_path, \"r\") as file:\n",
    "    dna_data = [line.strip().split(\":\") for line in file]\n"
   ]
  },
  {
   "cell_type": "code",
   "execution_count": 32,
   "metadata": {},
   "outputs": [
    {
     "name": "stdout",
     "output_type": "stream",
     "text": [
      "ID: 1\n",
      "DNA Sequence: accctaaccctaaccctaaccctaaccctaaccctaaccctaaccctaaccctaaccctaaccctaaccctaaccctaaccctaaccctaacccaaccctaaccctaaccctaaccctaaccctaaccctaacccctaaccctaaccctaaccctaaccctaacctaaccctaaccctaa\n"
     ]
    }
   ],
   "source": [
    "first_pair = dna_data[0]\n",
    "\n",
    "# Print the elements separately\n",
    "print(\"ID:\", first_pair[0])\n",
    "print(\"DNA Sequence:\", first_pair[1])"
   ]
  },
  {
   "cell_type": "code",
   "execution_count": 33,
   "metadata": {},
   "outputs": [],
   "source": [
    "# Extract labels and sequences from the read data\n",
    "labels, sequences = zip(*dna_data)\n",
    "labels = np.array(labels, dtype=int)\n",
    "sequences = np.array(sequences)"
   ]
  },
  {
   "cell_type": "code",
   "execution_count": 34,
   "metadata": {},
   "outputs": [
    {
     "name": "stdout",
     "output_type": "stream",
     "text": [
      "[1 0 1 ... 0 1 0]\n",
      "['accctaaccctaaccctaaccctaaccctaaccctaaccctaaccctaaccctaaccctaaccctaaccctaaccctaaccctaaccctaacccaaccctaaccctaaccctaaccctaaccctaaccctaacccctaaccctaaccctaaccctaaccctaacctaaccctaaccctaa'\n",
      " 'TGTGTCAGGGAAAGAATCAACCTGGGAGCCAAGCCCAGGAATCAGGATGACCAAGACATACTGCACAAGGAGGGAACAAACCCATCCAAGGACACTCAAGGACAAATCAAGCAAATGAATTTAAGGGAGACGTGCTCATGGTCTGCTTTGCTGCTCAGCATGGCTGGGAGGCACAGTGGA'\n",
      " 'gcccaggggaggaggcgtggcgcaggcgcagagaggcgcgccgtgctgccgcaggcgcagagacacatgctagcgcgtccagggggtggaggcgtggcgcaggcgcagagacgcacgcctacgggcggggttggggggggcgtgtgttacaggagcaaagtcgcacggcgccgggctggg'\n",
      " ...\n",
      " 'ctcttttgcctaatgatgcagttatggtcaatgagacccaaggatatgtctgttggctaaagataaaggatttcctccacaataaaaatgaatgtgcaagaagaaagctttgtccatacctttgaatggggctgtgagagggtagagcagctatcttgcaaccacaaggggacaaggctg'\n",
      " 'CCGCGACTGCAGCAGGCCAACCTCGTGCTCGGGCCTCGCCCCTCCCCCACGCCTCTAGCTAGGCCCCGCCCAAGACCTGCCCCTCCGCGAGCCCCCGCCCACCTACAGCGCCCCCTGTGGCCACGCCCCTCACCGGCTCTCACGGGCGCAAGGGAACTAGATGTCGCTTCCTTTTGCCCA'\n",
      " 'acgcccggctaattttttatatttttagtagagacagggtttcaccgtgttagccaggatggtcttatctcctgacctcgtgatccgcccgcctcggcctcccaaagtgctgggattacaggcgtgagccaccgcgcccagccaacaaaaacttttttaaaattagctatgcctatagtc']\n"
     ]
    }
   ],
   "source": [
    "print(labels)\n",
    "print(sequences)"
   ]
  },
  {
   "cell_type": "code",
   "execution_count": 35,
   "metadata": {},
   "outputs": [
    {
     "name": "stdout",
     "output_type": "stream",
     "text": [
      "3000\n",
      "2400\n",
      "600\n"
     ]
    }
   ],
   "source": [
    "\n",
    "# Define the number of samples for training and testing\n",
    "print(len(labels))\n",
    "train_samples = int((80*(len(labels)))/100)\n",
    "print(train_samples)\n",
    "test_samples = len(labels)-train_samples\n",
    "print(test_samples)\n",
    "\n",
    "# Define the length of the DNA sequences\n",
    "seq_len = len(sequences[0])"
   ]
  },
  {
   "cell_type": "code",
   "execution_count": 36,
   "metadata": {},
   "outputs": [
    {
     "name": "stdout",
     "output_type": "stream",
     "text": [
      "180\n"
     ]
    }
   ],
   "source": [
    "print(seq_len)"
   ]
  },
  {
   "cell_type": "code",
   "execution_count": 37,
   "metadata": {},
   "outputs": [],
   "source": [
    "def one_hot_encoding(sequence):\n",
    "    #sequence = sequence.tostring()\n",
    "    #sequence = sequence.decode('utf-8')\n",
    "    sequence = sequence.strip()\n",
    "    mapping = {'A': 0, 'a':0, 'T': 1, 't':1, 'C': 2, 'c':2,'G': 3, 'g':3}\n",
    "    # Define the size of the one-hot encoded vectors\n",
    "    n = len(sequence)\n",
    "    one_hot = np.zeros((4, n), dtype=np.int8)\n",
    "\n",
    "    # Iterate through the sequence and set the corresponding element to 1\n",
    "    for i, base in enumerate(sequence):\n",
    "        #base = base.upper()  # Convert to uppercase to handle lowercase letters\n",
    "        if base in mapping:\n",
    "            one_hot[mapping[base], i] = 1\n",
    "        else:\n",
    "            # If the base is not 'A', 'T', 'G', or 'C', assign 0 to all positions\n",
    "            one_hot[:, i] = 0\n",
    "\n",
    "    return one_hot"
   ]
  },
  {
   "cell_type": "code",
   "execution_count": 38,
   "metadata": {},
   "outputs": [],
   "source": [
    "list_l = []\n",
    "for seq in sequences:\n",
    "    # Call the one-hot encoding function on the current sequence\n",
    "    encoded_seq = one_hot_encoding(seq)\n",
    "    # Append the encoded sequence to the list\n",
    "    list_l.append(encoded_seq)\n",
    "\n",
    "# Convert the list to a NumPy array if needed\n",
    "list_1 = np.array(list_l)\n"
   ]
  },
  {
   "cell_type": "code",
   "execution_count": 39,
   "metadata": {},
   "outputs": [
    {
     "name": "stdout",
     "output_type": "stream",
     "text": [
      "[[1 0 0 0 0 1 1 0 0 0 0 1 1 0 0 0 0 1 1 0 0 0 0 1 1 0 0 0 0 1 1 0 0 0 0 1\n",
      "  1 0 0 0 0 1 1 0 0 0 0 1 1 0 0 0 0 1 1 0 0 0 0 1 1 0 0 0 0 1 1 0 0 0 0 1\n",
      "  1 0 0 0 0 1 1 0 0 0 0 1 1 0 0 0 0 1 1 0 0 0 1 1 0 0 0 0 1 1 0 0 0 0 1 1\n",
      "  0 0 0 0 1 1 0 0 0 0 1 1 0 0 0 0 1 1 0 0 0 0 1 1 0 0 0 0 0 1 1 0 0 0 0 1\n",
      "  1 0 0 0 0 1 1 0 0 0 0 1 1 0 0 0 0 1 1 0 0 0 1 1 0 0 0 0 1 1 0 0 0 0 1 1]\n",
      " [0 0 0 0 1 0 0 0 0 0 1 0 0 0 0 0 1 0 0 0 0 0 1 0 0 0 0 0 1 0 0 0 0 0 1 0\n",
      "  0 0 0 0 1 0 0 0 0 0 1 0 0 0 0 0 1 0 0 0 0 0 1 0 0 0 0 0 1 0 0 0 0 0 1 0\n",
      "  0 0 0 0 1 0 0 0 0 0 1 0 0 0 0 0 1 0 0 0 0 0 0 0 0 0 0 1 0 0 0 0 0 1 0 0\n",
      "  0 0 0 1 0 0 0 0 0 1 0 0 0 0 0 1 0 0 0 0 0 1 0 0 0 0 0 0 1 0 0 0 0 0 1 0\n",
      "  0 0 0 0 1 0 0 0 0 0 1 0 0 0 0 0 1 0 0 0 0 1 0 0 0 0 0 1 0 0 0 0 0 1 0 0]\n",
      " [0 1 1 1 0 0 0 1 1 1 0 0 0 1 1 1 0 0 0 1 1 1 0 0 0 1 1 1 0 0 0 1 1 1 0 0\n",
      "  0 1 1 1 0 0 0 1 1 1 0 0 0 1 1 1 0 0 0 1 1 1 0 0 0 1 1 1 0 0 0 1 1 1 0 0\n",
      "  0 1 1 1 0 0 0 1 1 1 0 0 0 1 1 1 0 0 0 1 1 1 0 0 1 1 1 0 0 0 1 1 1 0 0 0\n",
      "  1 1 1 0 0 0 1 1 1 0 0 0 1 1 1 0 0 0 1 1 1 0 0 0 1 1 1 1 0 0 0 1 1 1 0 0\n",
      "  0 1 1 1 0 0 0 1 1 1 0 0 0 1 1 1 0 0 0 1 1 0 0 0 1 1 1 0 0 0 1 1 1 0 0 0]\n",
      " [0 0 0 0 0 0 0 0 0 0 0 0 0 0 0 0 0 0 0 0 0 0 0 0 0 0 0 0 0 0 0 0 0 0 0 0\n",
      "  0 0 0 0 0 0 0 0 0 0 0 0 0 0 0 0 0 0 0 0 0 0 0 0 0 0 0 0 0 0 0 0 0 0 0 0\n",
      "  0 0 0 0 0 0 0 0 0 0 0 0 0 0 0 0 0 0 0 0 0 0 0 0 0 0 0 0 0 0 0 0 0 0 0 0\n",
      "  0 0 0 0 0 0 0 0 0 0 0 0 0 0 0 0 0 0 0 0 0 0 0 0 0 0 0 0 0 0 0 0 0 0 0 0\n",
      "  0 0 0 0 0 0 0 0 0 0 0 0 0 0 0 0 0 0 0 0 0 0 0 0 0 0 0 0 0 0 0 0 0 0 0 0]]\n"
     ]
    }
   ],
   "source": [
    "print(list_l[0])"
   ]
  },
  {
   "cell_type": "code",
   "execution_count": 40,
   "metadata": {},
   "outputs": [
    {
     "name": "stdout",
     "output_type": "stream",
     "text": [
      "[[[1 0 0 ... 0 1 1]\n",
      "  [0 0 0 ... 1 0 0]\n",
      "  [0 1 1 ... 0 0 0]\n",
      "  [0 0 0 ... 0 0 0]]\n",
      "\n",
      " [[0 0 0 ... 0 0 1]\n",
      "  [1 0 1 ... 0 0 0]\n",
      "  [0 0 0 ... 0 0 0]\n",
      "  [0 1 0 ... 1 1 0]]\n",
      "\n",
      " [[0 0 0 ... 0 0 0]\n",
      "  [0 0 0 ... 0 0 0]\n",
      "  [0 1 1 ... 0 0 0]\n",
      "  [1 0 0 ... 1 1 1]]\n",
      "\n",
      " ...\n",
      "\n",
      " [[0 0 0 ... 0 0 0]\n",
      "  [0 0 1 ... 1 1 0]\n",
      "  [0 0 0 ... 0 0 0]\n",
      "  [1 1 0 ... 0 0 1]]\n",
      "\n",
      " [[0 0 0 ... 0 0 1]\n",
      "  [0 0 0 ... 1 0 0]\n",
      "  [0 1 1 ... 0 1 0]\n",
      "  [1 0 0 ... 0 0 0]]\n",
      "\n",
      " [[0 1 0 ... 0 0 0]\n",
      "  [0 0 0 ... 1 0 0]\n",
      "  [1 0 1 ... 0 0 1]\n",
      "  [0 0 0 ... 0 1 0]]]\n",
      "(2400, 4, 180)\n",
      "int8\n"
     ]
    }
   ],
   "source": [
    "random_train_data = np.array(list_1[:train_samples])\n",
    "\n",
    "print(random_train_data)\n",
    "\n",
    "print(random_train_data.shape)\n",
    "print(random_train_data.dtype)"
   ]
  },
  {
   "cell_type": "code",
   "execution_count": 41,
   "metadata": {},
   "outputs": [
    {
     "name": "stdout",
     "output_type": "stream",
     "text": [
      "[[0 0 0 0 0 0 0 0 0 0 1 0 0 0 0 0 0 0 1 0 0 0 0 0 0 0 1 1 0 0 0 0 1 0 0 0\n",
      "  0 0 0 0 0 0 1 0 0 0 0 1 0 0 0 0 0 0 0 0 0 0 0 0 0 1 0 1 1 0 0 0 1 0 0 0\n",
      "  0 0 0 0 1 0 0 0 0 0 1 0 1 0 0 0 0 0 0 0 0 0 0 0 0 0 0 0 0 0 0 0 0 0 0 0\n",
      "  0 0 1 0 0 0 0 0 0 0 0 0 0 0 0 1 1 0 1 0 0 1 0 0 0 0 0 0 0 0 1 0 1 0 1 0\n",
      "  0 0 0 0 0 0 1 1 1 0 1 0 0 0 1 0 0 0 0 0 0 0 0 0 0 1 1 0 1 0 1 0 0 0 1 0]\n",
      " [0 1 0 0 0 0 0 0 0 1 0 0 1 0 0 0 0 0 0 0 0 1 0 0 0 1 0 0 1 0 1 0 0 0 0 1\n",
      "  1 0 0 1 0 0 0 0 0 0 0 0 0 0 1 0 1 1 0 0 1 0 0 1 0 0 0 0 0 0 1 0 0 0 0 1\n",
      "  0 0 0 1 0 0 1 1 0 0 0 0 0 0 0 1 0 0 0 0 0 0 1 1 1 0 0 0 0 1 0 0 0 1 0 0\n",
      "  1 1 0 0 0 1 0 0 1 1 0 0 0 0 1 0 0 0 0 0 0 0 1 0 0 1 0 1 1 0 0 0 0 0 0 0\n",
      "  0 0 1 1 1 1 0 0 0 0 0 0 0 0 0 0 0 1 0 0 0 0 0 1 0 0 0 0 0 0 0 1 0 1 0 0]\n",
      " [0 0 0 0 1 0 0 0 0 0 0 1 0 0 0 0 1 1 0 0 0 0 1 1 1 0 0 0 0 1 0 1 0 0 1 0\n",
      "  0 0 1 0 0 1 0 1 1 1 1 0 0 1 0 1 0 0 1 1 0 0 1 0 0 0 0 0 0 0 0 0 0 1 0 0\n",
      "  0 0 1 0 0 1 0 0 0 1 0 1 0 1 1 0 1 0 0 0 0 0 0 0 0 1 1 0 0 0 1 1 0 0 0 0\n",
      "  0 0 0 0 1 0 1 1 0 0 1 1 1 1 0 0 0 1 0 0 1 0 0 0 0 0 0 0 0 1 0 1 0 1 0 0\n",
      "  0 1 0 0 0 0 0 0 0 1 0 1 1 1 0 0 1 0 0 0 1 1 1 0 0 0 0 0 0 1 0 0 1 0 0 0]\n",
      " [1 0 1 1 0 1 1 1 1 0 0 0 0 1 1 1 0 0 0 1 1 0 0 0 0 0 0 0 0 0 0 0 0 1 0 0\n",
      "  0 1 0 0 1 0 0 0 0 0 0 0 1 0 0 0 0 0 0 0 0 1 0 0 1 0 1 0 0 1 0 1 0 0 1 0\n",
      "  1 1 0 0 0 0 0 0 1 0 0 0 0 0 0 0 0 1 1 1 1 1 0 0 0 0 0 1 1 0 0 0 1 0 1 1\n",
      "  0 0 0 1 0 0 0 0 0 0 0 0 0 0 0 0 0 0 0 1 0 0 0 1 1 0 1 0 0 0 0 0 0 0 0 1\n",
      "  1 0 0 0 0 0 0 0 0 0 0 0 0 0 0 1 0 0 1 1 0 0 0 0 1 0 0 1 0 0 0 0 0 0 0 1]]\n",
      "=====\n",
      "[0 0 0 0 0 0 0 0 0 0 1 0 0 0 0 0 0 0 1 0 0 0 0 0 0 0 1 1 0 0 0 0 1 0 0 0 0\n",
      " 0 0 0 0 0 1 0 0 0 0 1 0 0 0 0 0 0 0 0 0 0 0 0 0 1 0 1 1 0 0 0 1 0 0 0 0 0\n",
      " 0 0 1 0 0 0 0 0 1 0 1 0 0 0 0 0 0 0 0 0 0 0 0 0 0 0 0 0 0 0 0 0 0 0 0 0 1\n",
      " 0 0 0 0 0 0 0 0 0 0 0 0 1 1 0 1 0 0 1 0 0 0 0 0 0 0 0 1 0 1 0 1 0 0 0 0 0\n",
      " 0 0 1 1 1 0 1 0 0 0 1 0 0 0 0 0 0 0 0 0 0 1 1 0 1 0 1 0 0 0 1 0]\n",
      "(600, 4, 180)\n",
      "int8\n"
     ]
    }
   ],
   "source": [
    "random_test_data = np.array(list_1[train_samples:train_samples+test_samples])\n",
    "\n",
    "print(random_test_data[0])\n",
    "print(\"=====\")\n",
    "print(random_test_data[0][0])\n",
    "\n",
    "print(random_test_data.shape)\n",
    "print(random_test_data.dtype)"
   ]
  },
  {
   "cell_type": "code",
   "execution_count": 42,
   "metadata": {},
   "outputs": [
    {
     "name": "stdout",
     "output_type": "stream",
     "text": [
      "torch.Size([2400, 4, 180])\n",
      "torch.float32\n",
      "torch.Size([600, 4, 180])\n",
      "torch.float32\n"
     ]
    }
   ],
   "source": [
    "# Converting the data to tensor type and floating point type\n",
    "\n",
    "tensor_train_data = torch.from_numpy(random_train_data).float()\n",
    "tensor_test_data = torch.from_numpy(random_test_data).float()\n",
    "\n",
    "print(tensor_train_data.shape)\n",
    "print(tensor_train_data.dtype)\n",
    "\n",
    "print(tensor_test_data.shape)\n",
    "print(tensor_test_data.dtype)"
   ]
  },
  {
   "cell_type": "code",
   "execution_count": 43,
   "metadata": {},
   "outputs": [
    {
     "name": "stdout",
     "output_type": "stream",
     "text": [
      "[1 0 1 ... 0 1 0]\n",
      "[1 0 1 0 1 0 1 0 1 0 1 0 1 0 1 0 1 0 1 0 1 0 1 0 1 0 1 0 1 0 1 0 1 0 1 0 1\n",
      " 0 1 0 1 0 1 0 1 0 1 0 1 0 1 0 1 0 1 0 1 0 1 0 1 0 1 0 1 0 1 0 1 0 1 0 1 0\n",
      " 1 0 1 0 1 0 1 0 1 0 1 0 1 0 1 0 1 0 1 0 1 0 1 0 1 0 1 0 1 0 1 0 1 0 1 0 1\n",
      " 0 1 0 1 0 1 0 1 0 1 0 1 0 1 0 1 0 1 0 1 0 1 0 1 0 1 0 1 0 1 0 1 0 1 0 1 0\n",
      " 1 0 1 0 1 0 1 0 1 0 1 0 1 0 1 0 1 0 1 0 1 0 1 0 1 0 1 0 1 0 1 0 1 0 1 0 1\n",
      " 0 1 0 1 0 1 0 1 0 1 0 1 0 1 0 1 0 1 0 1 0 1 0 1 0 1 0 1 0 1 0 1 0 1 0 1 0\n",
      " 1 0 1 0 1 0 1 0 1 0 1 0 1 0 1 0 1 0 1 0 1 0 1 0 1 0 1 0 1 0 1 0 1 0 1 0 1\n",
      " 0 1 0 1 0 1 0 1 0 1 0 1 0 1 0 1 0 1 0 1 0 1 0 1 0 1 0 1 0 1 0 1 0 1 0 1 0\n",
      " 1 0 1 0 1 0 1 0 1 0 1 0 1 0 1 0 1 0 1 0 1 0 1 0 1 0 1 0 1 0 1 0 1 0 1 0 1\n",
      " 0 1 0 1 0 1 0 1 0 1 0 1 0 1 0 1 0 1 0 1 0 1 0 1 0 1 0 1 0 1 0 1 0 1 0 1 0\n",
      " 1 0 1 0 1 0 1 0 1 0 1 0 1 0 1 0 1 0 1 0 1 0 1 0 1 0 1 0 1 0 1 0 1 0 1 0 1\n",
      " 0 1 0 1 0 1 0 1 0 1 0 1 0 1 0 1 0 1 0 1 0 1 0 1 0 1 0 1 0 1 0 1 0 1 0 1 0\n",
      " 1 0 1 0 1 0 1 0 1 0 1 0 1 0 1 0 1 0 1 0 1 0 1 0 1 0 1 0 1 0 1 0 1 0 1 0 1\n",
      " 0 1 0 1 0 1 0 1 0 1 0 1 0 1 0 1 0 1 0 1 0 1 0 1 0 1 0 1 0 1 0 1 0 1 0 1 0\n",
      " 1 0 1 0 1 0 1 0 1 0 1 0 1 0 1 0 1 0 1 0 1 0 1 0 1 0 1 0 1 0 1 0 1 0 1 0 1\n",
      " 0 1 0 1 0 1 0 1 0 1 0 1 0 1 0 1 0 1 0 1 0 1 0 1 0 1 0 1 0 1 0 1 0 1 0 1 0\n",
      " 1 0 1 0 1 0 1 0]\n",
      "int64\n",
      "int64\n",
      "tensor([1, 0, 1,  ..., 0, 1, 0])\n",
      "tensor([1, 0, 1, 0, 1, 0, 1, 0, 1, 0, 1, 0, 1, 0, 1, 0, 1, 0, 1, 0, 1, 0, 1, 0,\n",
      "        1, 0, 1, 0, 1, 0, 1, 0, 1, 0, 1, 0, 1, 0, 1, 0, 1, 0, 1, 0, 1, 0, 1, 0,\n",
      "        1, 0, 1, 0, 1, 0, 1, 0, 1, 0, 1, 0, 1, 0, 1, 0, 1, 0, 1, 0, 1, 0, 1, 0,\n",
      "        1, 0, 1, 0, 1, 0, 1, 0, 1, 0, 1, 0, 1, 0, 1, 0, 1, 0, 1, 0, 1, 0, 1, 0,\n",
      "        1, 0, 1, 0, 1, 0, 1, 0, 1, 0, 1, 0, 1, 0, 1, 0, 1, 0, 1, 0, 1, 0, 1, 0,\n",
      "        1, 0, 1, 0, 1, 0, 1, 0, 1, 0, 1, 0, 1, 0, 1, 0, 1, 0, 1, 0, 1, 0, 1, 0,\n",
      "        1, 0, 1, 0, 1, 0, 1, 0, 1, 0, 1, 0, 1, 0, 1, 0, 1, 0, 1, 0, 1, 0, 1, 0,\n",
      "        1, 0, 1, 0, 1, 0, 1, 0, 1, 0, 1, 0, 1, 0, 1, 0, 1, 0, 1, 0, 1, 0, 1, 0,\n",
      "        1, 0, 1, 0, 1, 0, 1, 0, 1, 0, 1, 0, 1, 0, 1, 0, 1, 0, 1, 0, 1, 0, 1, 0,\n",
      "        1, 0, 1, 0, 1, 0, 1, 0, 1, 0, 1, 0, 1, 0, 1, 0, 1, 0, 1, 0, 1, 0, 1, 0,\n",
      "        1, 0, 1, 0, 1, 0, 1, 0, 1, 0, 1, 0, 1, 0, 1, 0, 1, 0, 1, 0, 1, 0, 1, 0,\n",
      "        1, 0, 1, 0, 1, 0, 1, 0, 1, 0, 1, 0, 1, 0, 1, 0, 1, 0, 1, 0, 1, 0, 1, 0,\n",
      "        1, 0, 1, 0, 1, 0, 1, 0, 1, 0, 1, 0, 1, 0, 1, 0, 1, 0, 1, 0, 1, 0, 1, 0,\n",
      "        1, 0, 1, 0, 1, 0, 1, 0, 1, 0, 1, 0, 1, 0, 1, 0, 1, 0, 1, 0, 1, 0, 1, 0,\n",
      "        1, 0, 1, 0, 1, 0, 1, 0, 1, 0, 1, 0, 1, 0, 1, 0, 1, 0, 1, 0, 1, 0, 1, 0,\n",
      "        1, 0, 1, 0, 1, 0, 1, 0, 1, 0, 1, 0, 1, 0, 1, 0, 1, 0, 1, 0, 1, 0, 1, 0,\n",
      "        1, 0, 1, 0, 1, 0, 1, 0, 1, 0, 1, 0, 1, 0, 1, 0, 1, 0, 1, 0, 1, 0, 1, 0,\n",
      "        1, 0, 1, 0, 1, 0, 1, 0, 1, 0, 1, 0, 1, 0, 1, 0, 1, 0, 1, 0, 1, 0, 1, 0,\n",
      "        1, 0, 1, 0, 1, 0, 1, 0, 1, 0, 1, 0, 1, 0, 1, 0, 1, 0, 1, 0, 1, 0, 1, 0,\n",
      "        1, 0, 1, 0, 1, 0, 1, 0, 1, 0, 1, 0, 1, 0, 1, 0, 1, 0, 1, 0, 1, 0, 1, 0,\n",
      "        1, 0, 1, 0, 1, 0, 1, 0, 1, 0, 1, 0, 1, 0, 1, 0, 1, 0, 1, 0, 1, 0, 1, 0,\n",
      "        1, 0, 1, 0, 1, 0, 1, 0, 1, 0, 1, 0, 1, 0, 1, 0, 1, 0, 1, 0, 1, 0, 1, 0,\n",
      "        1, 0, 1, 0, 1, 0, 1, 0, 1, 0, 1, 0, 1, 0, 1, 0, 1, 0, 1, 0, 1, 0, 1, 0,\n",
      "        1, 0, 1, 0, 1, 0, 1, 0, 1, 0, 1, 0, 1, 0, 1, 0, 1, 0, 1, 0, 1, 0, 1, 0,\n",
      "        1, 0, 1, 0, 1, 0, 1, 0, 1, 0, 1, 0, 1, 0, 1, 0, 1, 0, 1, 0, 1, 0, 1, 0])\n",
      "torch.Size([2400])\n",
      "torch.Size([600])\n",
      "torch.int64\n",
      "torch.int64\n"
     ]
    }
   ],
   "source": [
    "label_train = np.array(labels[:train_samples])\n",
    "print(label_train)\n",
    "\n",
    "label_test = np.array(labels[train_samples:train_samples+test_samples])\n",
    "print(label_test)\n",
    "\n",
    "print(label_train.dtype)\n",
    "print(label_test.dtype)\n",
    "\n",
    "label_train = torch.from_numpy(label_train)\n",
    "label_test = torch.from_numpy(label_test)\n",
    "\n",
    "print(label_train)\n",
    "print(label_test)\n",
    "\n",
    "print(label_train.shape)\n",
    "print(label_test.shape)\n",
    "\n",
    "print(label_train.dtype)\n",
    "print(label_test.dtype)"
   ]
  },
  {
   "cell_type": "code",
   "execution_count": 44,
   "metadata": {},
   "outputs": [],
   "source": [
    "\n",
    "# The most important class, a custom data loader, understand how it is working.\n",
    "\n",
    "class data_class(Dataset):\n",
    "    def __init__(self,data,label):\n",
    "        #self.data=torch.tensor(data)\n",
    "        #self.labels=torch.tensor(label)\n",
    "        self.labels = torch.tensor(list(x for x in label))\n",
    "        self.data=data\n",
    "        #self.labels=label\n",
    "        \n",
    "\n",
    "    def __len__(self):\n",
    "        return len(self.data)\n",
    "    \n",
    "    def __getitem__(self,id):\n",
    "        data_set=self.data[id]\n",
    "        labels=self.labels[id]\n",
    "\n",
    "        return data_set,labels"
   ]
  },
  {
   "cell_type": "code",
   "execution_count": 45,
   "metadata": {},
   "outputs": [
    {
     "name": "stdout",
     "output_type": "stream",
     "text": [
      "<__main__.data_class object at 0x7f9520e6fd30>\n",
      "2400\n",
      "<__main__.data_class object at 0x7f9520edde50>\n",
      "600\n"
     ]
    }
   ],
   "source": [
    "# calling the data_class for the raw random data\n",
    "\n",
    "train_data=data_class(tensor_train_data,label_train)\n",
    "print(train_data)\n",
    "print(len(train_data))\n",
    "test_data=data_class(tensor_test_data,label_test)\n",
    "print(test_data)\n",
    "print(len(test_data))"
   ]
  },
  {
   "cell_type": "code",
   "execution_count": 46,
   "metadata": {},
   "outputs": [
    {
     "name": "stdout",
     "output_type": "stream",
     "text": [
      "<torch.utils.data.dataloader.DataLoader object at 0x7f95642663a0>\n",
      "800\n",
      "<torch.utils.data.dataloader.DataLoader object at 0x7f9520e845b0>\n",
      "200\n"
     ]
    }
   ],
   "source": [
    "# Creating the data loader which is going to load the data to the AI model\n",
    "\n",
    "train_dataloader=DataLoader(train_data,batch_size=3,shuffle=True)\n",
    "print(train_dataloader)\n",
    "print(len(train_dataloader))\n",
    "test_dataloader=DataLoader(test_data,batch_size=3,shuffle=True)\n",
    "print(test_dataloader)\n",
    "print(len(test_dataloader))"
   ]
  },
  {
   "cell_type": "code",
   "execution_count": 47,
   "metadata": {},
   "outputs": [],
   "source": [
    "model=Net().to(device)\n",
    "optimizer=optim.Adam(params=model.parameters(),lr=0.0001)\n",
    "loss_fn = nn.CrossEntropyLoss()"
   ]
  },
  {
   "cell_type": "code",
   "execution_count": 48,
   "metadata": {},
   "outputs": [
    {
     "name": "stdout",
     "output_type": "stream",
     "text": [
      "tensor([[[0., 1., 0.,  ..., 0., 0., 0.],\n",
      "         [1., 0., 0.,  ..., 0., 0., 0.],\n",
      "         [0., 0., 0.,  ..., 0., 1., 0.],\n",
      "         [0., 0., 1.,  ..., 1., 0., 1.]],\n",
      "\n",
      "        [[0., 0., 0.,  ..., 1., 1., 0.],\n",
      "         [0., 1., 0.,  ..., 0., 0., 1.],\n",
      "         [0., 0., 1.,  ..., 0., 0., 0.],\n",
      "         [1., 0., 0.,  ..., 0., 0., 0.]],\n",
      "\n",
      "        [[0., 1., 1.,  ..., 0., 0., 1.],\n",
      "         [0., 0., 0.,  ..., 1., 0., 0.],\n",
      "         [0., 0., 0.,  ..., 0., 1., 0.],\n",
      "         [1., 0., 0.,  ..., 0., 0., 0.]]])\n",
      "torch.Size([3, 4, 180])\n",
      "tensor([1, 0, 0])\n",
      "800\n",
      "180\n"
     ]
    }
   ],
   "source": [
    "for data,label in train_dataloader:\n",
    "    print(data)\n",
    "    print(data.shape)\n",
    "    print(label)\n",
    "    print(len(train_dataloader))\n",
    "    print(len(data[0][0]))\n",
    "    break"
   ]
  },
  {
   "cell_type": "code",
   "execution_count": 49,
   "metadata": {},
   "outputs": [],
   "source": [
    "def train(model,device,train_dataloader,optimizer,epochs):\n",
    "    print(\"inside train\")\n",
    "    model.train()\n",
    "    for batch_ids, (seq, classes) in enumerate(train_dataloader):\n",
    "        classes=classes.type(torch.LongTensor)\n",
    "        seq,classes=seq.to(device),classes.to(device)\n",
    "        torch.autograd.set_detect_anomaly(True)     \n",
    "        optimizer.zero_grad()\n",
    "        output=model(seq)\n",
    "        '''\n",
    "        print(\"Batch:\", batch_ids)\n",
    "        print(\"Output size:\", output.size())  \n",
    "        print(\"Classes size:\", classes.size())\n",
    "        print(\"Classes:\", classes[0:2])  # Print a few labels\n",
    "        print(\"Output:\", output[0:2])  # Print a few output predictions\n",
    "        print(len(output))\n",
    "        print(len(classes))\n",
    "        print(\"classes\")\n",
    "        print(classes[1])\n",
    "        print(\"output\")\n",
    "        print(output[0])\n",
    "        print(output)\n",
    "        print(\"length of classes :\", len(classes))\n",
    "        print(\"Length of output :\",len(output))\n",
    "        '''\n",
    "        \n",
    "        \n",
    "        loss = loss_fn(output,classes)                \n",
    "        \n",
    "        loss.backward()\n",
    "        optimizer.step()\n",
    "    if(batch_ids +1) % 2 == 0:\n",
    "        print(\"Train Epoch: {} [{}/{} ({:.0f}%)]\\tLoss: {:.6f}\".format(\n",
    "            epochs, batch_ids* len(seq), len(train_dataloader.dataset),\n",
    "            100.*batch_ids / len(train_dataloader),loss.item()))"
   ]
  },
  {
   "cell_type": "code",
   "execution_count": 50,
   "metadata": {},
   "outputs": [],
   "source": [
    "def test(model, device, test_dataloader):\n",
    "    model.eval()\n",
    "    test_loss=0\n",
    "    correct=0\n",
    "    with torch.no_grad():\n",
    "        for seq,classes in test_dataloader:\n",
    "            seq,classes=seq.to(device), classes.to(device)\n",
    "            y_hat=model(seq)\n",
    "            test_loss+=F.nll_loss(y_hat,classes,reduction='sum').item()\n",
    "            _,y_pred=torch.max(y_hat,1)\n",
    "            correct+=(y_pred==classes).sum().item()\n",
    "        test_loss/=len(test_dataloader.dataset)\n",
    "        print(\"\\n Test set: Avarage loss: {:.0f},Accuracy:{}/{} ({:.0f}%)\\n\".format(\n",
    "            test_loss,correct,len(test_dataloader.dataset),100.*correct/len(test_dataloader.dataset)))\n",
    "        print(\"test loss :\",test_loss)\n",
    "        print(\"Correct :\",correct)\n",
    "        print(\"Len test dataloader :\", len(test_dataloader.dataset))\n",
    "        print('='*30)"
   ]
  },
  {
   "cell_type": "code",
   "execution_count": 51,
   "metadata": {},
   "outputs": [
    {
     "name": "stdout",
     "output_type": "stream",
     "text": [
      "inside train\n",
      "Train Epoch: 1 [2397/2400 (100%)]\tLoss: 0.731817\n",
      "\n",
      " Test set: Avarage loss: 0,Accuracy:300/600 (50%)\n",
      "\n",
      "test loss : 0.020114997612933318\n",
      "Correct : 300\n",
      "Len test dataloader : 600\n",
      "==============================\n",
      "inside train\n",
      "Train Epoch: 2 [2397/2400 (100%)]\tLoss: 0.695308\n",
      "\n",
      " Test set: Avarage loss: 0,Accuracy:306/600 (51%)\n",
      "\n",
      "test loss : 0.017732624004905422\n",
      "Correct : 306\n",
      "Len test dataloader : 600\n",
      "==============================\n",
      "inside train\n",
      "Train Epoch: 3 [2397/2400 (100%)]\tLoss: 1.061858\n",
      "\n",
      " Test set: Avarage loss: -0,Accuracy:406/600 (68%)\n",
      "\n",
      "test loss : -0.10431617143253485\n",
      "Correct : 406\n",
      "Len test dataloader : 600\n",
      "==============================\n",
      "inside train\n",
      "Train Epoch: 4 [2397/2400 (100%)]\tLoss: 0.641172\n",
      "\n",
      " Test set: Avarage loss: -0,Accuracy:394/600 (66%)\n",
      "\n",
      "test loss : -0.14636392505529025\n",
      "Correct : 394\n",
      "Len test dataloader : 600\n",
      "==============================\n",
      "inside train\n",
      "Train Epoch: 5 [2397/2400 (100%)]\tLoss: 0.512703\n",
      "\n",
      " Test set: Avarage loss: -0,Accuracy:414/600 (69%)\n",
      "\n",
      "test loss : -0.23939583009729784\n",
      "Correct : 414\n",
      "Len test dataloader : 600\n",
      "==============================\n",
      "inside train\n",
      "Train Epoch: 6 [2397/2400 (100%)]\tLoss: 0.539249\n",
      "\n",
      " Test set: Avarage loss: -0,Accuracy:400/600 (67%)\n",
      "\n",
      "test loss : -0.24006870753287027\n",
      "Correct : 400\n",
      "Len test dataloader : 600\n",
      "==============================\n",
      "inside train\n",
      "Train Epoch: 7 [2397/2400 (100%)]\tLoss: 0.822764\n",
      "\n",
      " Test set: Avarage loss: -0,Accuracy:424/600 (71%)\n",
      "\n",
      "test loss : -0.2808486032485962\n",
      "Correct : 424\n",
      "Len test dataloader : 600\n",
      "==============================\n",
      "inside train\n",
      "Train Epoch: 8 [2397/2400 (100%)]\tLoss: 0.575259\n",
      "\n",
      " Test set: Avarage loss: -0,Accuracy:410/600 (68%)\n",
      "\n",
      "test loss : -0.17409162560167413\n",
      "Correct : 410\n",
      "Len test dataloader : 600\n",
      "==============================\n",
      "inside train\n",
      "Train Epoch: 9 [2397/2400 (100%)]\tLoss: 0.711837\n",
      "\n",
      " Test set: Avarage loss: -0,Accuracy:404/600 (67%)\n",
      "\n",
      "test loss : -0.2897809016844258\n",
      "Correct : 404\n",
      "Len test dataloader : 600\n",
      "==============================\n",
      "inside train\n",
      "Train Epoch: 10 [2397/2400 (100%)]\tLoss: 0.989585\n",
      "\n",
      " Test set: Avarage loss: -0,Accuracy:405/600 (68%)\n",
      "\n",
      "test loss : -0.20699721076215308\n",
      "Correct : 405\n",
      "Len test dataloader : 600\n",
      "==============================\n"
     ]
    }
   ],
   "source": [
    "# WE ARE USING RANDOM DATA SO THE TRAINING AND TESTING DOES NOT MATTER, THE AIM IS TO SHOWCASE THE USE OF A CUSTOM DATASET\n",
    "# SINCE IN PRACTICAL SENSE YOU HAVE TO CLEAN THE DATA AND LOAD THE DATA INTO THE MODEL.\n",
    "\n",
    "\n",
    "if __name__=='__main__':\n",
    "    seed=42\n",
    "    EPOCHS=10\n",
    "    \n",
    "    for epoch in range(1,EPOCHS+1):\n",
    "        train(model,device,train_dataloader,optimizer,epoch)\n",
    "        test(model,device,test_dataloader)"
   ]
  },
  {
   "cell_type": "code",
   "execution_count": null,
   "metadata": {},
   "outputs": [],
   "source": []
  }
 ],
 "metadata": {
  "kernelspec": {
   "display_name": "Python [conda env:DNA_SEQ] *",
   "language": "python",
   "name": "conda-env-DNA_SEQ-py"
  },
  "language_info": {
   "codemirror_mode": {
    "name": "ipython",
    "version": 3
   },
   "file_extension": ".py",
   "mimetype": "text/x-python",
   "name": "python",
   "nbconvert_exporter": "python",
   "pygments_lexer": "ipython3",
   "version": "3.9.19"
  }
 },
 "nbformat": 4,
 "nbformat_minor": 2
}
